{
 "cells": [
  {
   "cell_type": "markdown",
   "id": "0",
   "metadata": {},
   "source": [
    "# Coinalyze Client Example\n",
    "\n",
    "This notebook shows how to use the Coinalyze client."
   ]
  },
  {
   "cell_type": "code",
   "execution_count": null,
   "id": "1",
   "metadata": {},
   "outputs": [],
   "source": [
    "import pandas as pd\n",
    "from environs import Env\n",
    "\n",
    "from coinalyze import CoinalyzeClient, HistoryEndpoint, history_response_to_df, response_to_df\n",
    "from coinalyze.enums import Interval"
   ]
  },
  {
   "cell_type": "code",
   "execution_count": null,
   "id": "2",
   "metadata": {},
   "outputs": [],
   "source": [
    "# Remember to set your API key in the .env file. Use .env.template as a template.\n",
    "env = Env()\n",
    "env.read_env(\".env\")"
   ]
  },
  {
   "cell_type": "code",
   "execution_count": null,
   "id": "3",
   "metadata": {},
   "outputs": [],
   "source": [
    "FUTURE_MARKET_SYMBOL = \"BTCUSDT_PERP.A\""
   ]
  },
  {
   "cell_type": "code",
   "execution_count": null,
   "id": "4",
   "metadata": {},
   "outputs": [],
   "source": [
    "client = CoinalyzeClient(api_key=env.str(\"COINALYZE_API_KEY\"))"
   ]
  },
  {
   "cell_type": "markdown",
   "id": "5",
   "metadata": {},
   "source": [
    "## Exchanges and Markets"
   ]
  },
  {
   "cell_type": "code",
   "execution_count": null,
   "id": "6",
   "metadata": {},
   "outputs": [],
   "source": [
    "exchange_df = response_to_df(client.get_exchanges())\n",
    "exchange_df"
   ]
  },
  {
   "cell_type": "code",
   "execution_count": null,
   "id": "7",
   "metadata": {},
   "outputs": [],
   "source": [
    "future_markets_df = response_to_df(client.get_future_markets())\n",
    "future_markets_df.query(\"exchange == 'A' and base_asset == 'BTC'\")"
   ]
  },
  {
   "cell_type": "code",
   "execution_count": null,
   "id": "8",
   "metadata": {},
   "outputs": [],
   "source": [
    "spot_markets_df = response_to_df(client.get_spot_markets())\n",
    "spot_markets_df.query(\n",
    "    \"exchange == 'A' and base_asset.isin(['BTC', 'ETH', 'SOL', 'SUI']) and quote_asset == 'USDT'\"\n",
    ")"
   ]
  },
  {
   "cell_type": "markdown",
   "id": "9",
   "metadata": {},
   "source": [
    "## Current Endpoints"
   ]
  },
  {
   "cell_type": "code",
   "execution_count": null,
   "id": "10",
   "metadata": {},
   "outputs": [],
   "source": [
    "dfs = []\n",
    "dfs.append(\n",
    "    response_to_df(client.get_current_open_interest(symbols=FUTURE_MARKET_SYMBOL), \"open_interest\")\n",
    ")\n",
    "dfs.append(\n",
    "    response_to_df(client.get_current_funding_rate(symbols=FUTURE_MARKET_SYMBOL), \"funding_rate\")\n",
    ")\n",
    "dfs.append(\n",
    "    response_to_df(\n",
    "        client.get_current_predicted_funding_rate(symbols=FUTURE_MARKET_SYMBOL),\n",
    "        \"predicted_funding_rate\",\n",
    "    )\n",
    ")\n",
    "display(pd.concat(dfs))"
   ]
  },
  {
   "cell_type": "markdown",
   "id": "11",
   "metadata": {},
   "source": [
    "## History Endpoints"
   ]
  },
  {
   "cell_type": "markdown",
   "id": "12",
   "metadata": {},
   "source": [
    "### Open Interest"
   ]
  },
  {
   "cell_type": "code",
   "execution_count": null,
   "id": "13",
   "metadata": {},
   "outputs": [],
   "source": [
    "oi_df = history_response_to_df(\n",
    "    client.get_history(\n",
    "        endpoint=HistoryEndpoint.OI,\n",
    "        symbols=FUTURE_MARKET_SYMBOL,\n",
    "        start=\"2025-06-01\",\n",
    "        end=\"2025-06-20\",\n",
    "    ),\n",
    "    endpoint=HistoryEndpoint.OI,\n",
    ")\n",
    "oi_df"
   ]
  },
  {
   "cell_type": "markdown",
   "id": "14",
   "metadata": {},
   "source": [
    "### Funding rate"
   ]
  },
  {
   "cell_type": "code",
   "execution_count": null,
   "id": "15",
   "metadata": {},
   "outputs": [],
   "source": [
    "funding_rate_df = history_response_to_df(\n",
    "    client.get_history(\n",
    "        endpoint=HistoryEndpoint.FUNDING_RATE,\n",
    "        symbols=FUTURE_MARKET_SYMBOL,\n",
    "        start=\"2025-06-01\",\n",
    "        end=\"2025-06-20\",\n",
    "    ),\n",
    "    endpoint=HistoryEndpoint.FUNDING_RATE,\n",
    ")\n",
    "funding_rate_df"
   ]
  },
  {
   "cell_type": "markdown",
   "id": "16",
   "metadata": {},
   "source": [
    "### Predicted Funding Rate"
   ]
  },
  {
   "cell_type": "code",
   "execution_count": null,
   "id": "17",
   "metadata": {},
   "outputs": [],
   "source": [
    "predicted_funding_rate_df = history_response_to_df(\n",
    "    client.get_history(\n",
    "        endpoint=HistoryEndpoint.PREDICTED_FUNDING_RATE,\n",
    "        symbols=FUTURE_MARKET_SYMBOL,\n",
    "        start=\"2025-06-01\",\n",
    "        end=\"2025-06-20\",\n",
    "    ),\n",
    "    endpoint=HistoryEndpoint.PREDICTED_FUNDING_RATE,\n",
    ")\n",
    "predicted_funding_rate_df"
   ]
  },
  {
   "cell_type": "markdown",
   "id": "18",
   "metadata": {},
   "source": [
    "### Liquidation"
   ]
  },
  {
   "cell_type": "code",
   "execution_count": null,
   "id": "19",
   "metadata": {},
   "outputs": [],
   "source": [
    "liquidation_df = history_response_to_df(\n",
    "    client.get_history(\n",
    "        endpoint=HistoryEndpoint.LIQUIDATION,\n",
    "        symbols=FUTURE_MARKET_SYMBOL,\n",
    "        start=\"2025-06-01\",\n",
    "        end=\"2025-06-20\",\n",
    "    ),\n",
    "    endpoint=HistoryEndpoint.LIQUIDATION,\n",
    ")\n",
    "liquidation_df"
   ]
  },
  {
   "cell_type": "markdown",
   "id": "20",
   "metadata": {},
   "source": [
    "### Long Short Ratio"
   ]
  },
  {
   "cell_type": "code",
   "execution_count": null,
   "id": "21",
   "metadata": {},
   "outputs": [],
   "source": [
    "long_short_ratio_df = history_response_to_df(\n",
    "    client.get_history(\n",
    "        endpoint=HistoryEndpoint.LSRATIO,\n",
    "        symbols=FUTURE_MARKET_SYMBOL,\n",
    "        start=\"2025-06-01\",\n",
    "        end=\"2025-06-20\",\n",
    "    ),\n",
    "    endpoint=HistoryEndpoint.LSRATIO,\n",
    ")\n",
    "long_short_ratio_df"
   ]
  },
  {
   "cell_type": "markdown",
   "id": "22",
   "metadata": {},
   "source": [
    "### OHLCV / Candlestick data"
   ]
  },
  {
   "cell_type": "code",
   "execution_count": null,
   "id": "23",
   "metadata": {},
   "outputs": [],
   "source": [
    "ohlcv_df = history_response_to_df(\n",
    "    client.get_history(\n",
    "        endpoint=HistoryEndpoint.OHLCV,\n",
    "        symbols=FUTURE_MARKET_SYMBOL,\n",
    "        interval=Interval.H4,\n",
    "        start=\"2025-06-10\",\n",
    "        end=\"2025-06-21\",\n",
    "    ),\n",
    "    endpoint=HistoryEndpoint.OHLCV,\n",
    ")\n",
    "ohlcv_df"
   ]
  }
 ],
 "metadata": {
  "kernelspec": {
   "display_name": ".venv",
   "language": "python",
   "name": "python3"
  },
  "language_info": {
   "codemirror_mode": {
    "name": "ipython",
    "version": 3
   },
   "file_extension": ".py",
   "mimetype": "text/x-python",
   "name": "python",
   "nbconvert_exporter": "python",
   "pygments_lexer": "ipython3",
   "version": "3.11.11"
  }
 },
 "nbformat": 4,
 "nbformat_minor": 5
}
